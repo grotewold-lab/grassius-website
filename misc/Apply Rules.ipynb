{
 "cells": [
  {
   "cell_type": "code",
   "execution_count": null,
   "id": "5ece5194",
   "metadata": {},
   "outputs": [],
   "source": [
    "import pandas as pd\n",
    "import json\n",
    "from pprint import pprint\n",
    "\n",
    "\n",
    "# 2 input files are needed\n",
    "family_rules_filepath = \"Current_TF_family_rules.xlsx\"\n",
    "annotations_filepath = \"all_maize_pfam.json\"\n",
    "\n",
    "# download links for the input files above\n",
    "#https://github.com/grotewold-lab/grassius-db-builder/blob/main/inputs/private_inputs/Current_TF_family_rules.xlsx?raw=true\n",
    "#https://github.com/grotewold-lab/grassius-db-builder/blob/main/inputs/private_inputs/all_maize_pfam.json.tar.gz?raw=true\n",
    "\n",
    "\n",
    "output_filepath = \"applied_rules.csv\"\n"
   ]
  },
  {
   "cell_type": "code",
   "execution_count": null,
   "id": "16e38b8c",
   "metadata": {},
   "outputs": [],
   "source": [
    "# load family rules\n",
    "df = pd.read_excel(family_rules_filepath)\n",
    "\n",
    "\n",
    "# convert the content of one required/forbidden cell into a list of accession names \n",
    "# e.g. \"PF00249#2\" -> [\"PF00249\",\"PF00249\"]\n",
    "# e.e. \"PF00319#1:PF01486#1\" -> [\"PF00319\",\"PF01486\"]\n",
    "def parse_rule( cell_content ):\n",
    "    if not isinstance(cell_content,str):\n",
    "        return []\n",
    "    result = []\n",
    "    for part in cell_content.split(\":\"):\n",
    "        if len(part.strip()) == 0:\n",
    "            continue\n",
    "        prefix,suffix = part.split(\"#\")\n",
    "        if suffix == \"1\":\n",
    "            result.append(prefix)\n",
    "        elif suffix == \"2\":\n",
    "            result += [prefix,prefix]\n",
    "    return result\n",
    "\n",
    "\n",
    "# convert all required and forbidden cells\n",
    "for row in df.index:\n",
    "    for col in ['Required','Forbidden']:\n",
    "        df.at[row,col] = parse_rule( df.loc[row,col] )\n",
    "        \n",
    "# get a master list of all domains involved in the 'Required' column\n",
    "all_required_domains = []\n",
    "for row in df.index:\n",
    "    for entry in df.loc[row,'Required']:\n",
    "        all_required_domains.append(entry)\n",
    "all_required_domains = set(all_required_domains)\n",
    "\n",
    "        \n",
    "# give the dataframe a more descriptive variable name\n",
    "rules_df = df"
   ]
  },
  {
   "cell_type": "code",
   "execution_count": null,
   "id": "e5811008",
   "metadata": {},
   "outputs": [],
   "source": [
    "# EXAMPLE\n",
    "# check the required and forbidden domains for one family\n",
    "\n",
    "family_name = \"MYB\"\n",
    "\n",
    "\n",
    "matching_row = rules_df.loc[rules_df['GRASSIUS'] == family_name].index[0]\n",
    "for col in ['Required','Forbidden']:\n",
    "    domains = rules_df.loc[matching_row,col]\n",
    "    print( f\"{col}: {domains}\")"
   ]
  },
  {
   "cell_type": "code",
   "execution_count": null,
   "id": "7db0bd38",
   "metadata": {},
   "outputs": [],
   "source": [
    "# load domain annotations\n",
    "with open(annotations_filepath, 'r') as f:\n",
    "    raw_anno = json.load( f )\n",
    "\n",
    "\n",
    "# convert domain annotations into lists of accession names\n",
    "# ignore transcripts without annotations\n",
    "anno = {}\n",
    "for tid,tanno in raw_anno.items():\n",
    "    anno[tid] = []\n",
    "    if not isinstance(tanno,list):\n",
    "        tanno = [tanno]\n",
    "    for entry in tanno:\n",
    "        acc = entry['@acc'].split(\".\")[0]\n",
    "        if isinstance(entry['domains'],list):\n",
    "            for d in entry['domains']:\n",
    "                anno[tid].append( acc )\n",
    "        else:\n",
    "            anno[tid].append( acc )\n",
    "            "
   ]
  },
  {
   "cell_type": "code",
   "execution_count": null,
   "id": "e41b4548",
   "metadata": {},
   "outputs": [],
   "source": [
    "raw_anno['Zm00001eb058920_P001']"
   ]
  },
  {
   "cell_type": "code",
   "execution_count": null,
   "id": "a7c3ed1f",
   "metadata": {},
   "outputs": [],
   "source": [
    "# EXAMPLE\n",
    "# check the raw annotations for a transcript\n",
    "\n",
    "tid = 'Zm00001eb058920_P001'\n",
    "tid = tid.replace('_T','_P')\n",
    "\n",
    "pprint(raw_anno[tid])"
   ]
  },
  {
   "cell_type": "code",
   "execution_count": null,
   "id": "8b45a55a",
   "metadata": {},
   "outputs": [],
   "source": [
    "# EXAMPLE\n",
    "# check the domains present in a transcript\n",
    "\n",
    "tid = 'Zm00001eb058920_P001'\n",
    "tid = tid.replace('_T','_P')\n",
    "\n",
    "if tid in anno.keys():\n",
    "    print( anno[tid] )\n",
    "else:\n",
    "    print( 'no domains')"
   ]
  },
  {
   "cell_type": "code",
   "execution_count": null,
   "id": "f4fb5418",
   "metadata": {},
   "outputs": [],
   "source": [
    "# EXAMPLE\n",
    "# find transcripts that have a specific domain\n",
    "\n",
    "domain = 'PF08711'\n",
    "\n",
    "matching_tids = [tid for tid,doms in anno.items() if domain in doms]\n",
    "\n",
    "print(matching_tids)"
   ]
  },
  {
   "cell_type": "code",
   "execution_count": null,
   "id": "004573ad",
   "metadata": {},
   "outputs": [],
   "source": [
    "# subroutines to help apply family rules\n",
    "\n",
    "\n",
    "# return True if the given list of accessions fits the criteria\n",
    "# all params are lists of strings containing accession names\n",
    "def matches_family( accessions, required, forbidden ):\n",
    "    if any( a in forbidden for a in accessions ):\n",
    "        return False\n",
    "    r = list(required)\n",
    "    for a in accessions:\n",
    "        if a in r:\n",
    "            r.remove(a)\n",
    "    if len(r) == 0:\n",
    "        return True\n",
    "    return False\n",
    "\n",
    "\n",
    "# return a list of family names that fit a protein with the given list of accession names\n",
    "# for each matching family, also return the lists of required and forbidden domains\n",
    "def get_matching_families( accessions ):\n",
    "    \n",
    "    # don't waste any time checking, if no relevant accessions are present\n",
    "    if not any(a in all_required_domains for a in accessions):\n",
    "        return []\n",
    "    \n",
    "    result = []\n",
    "    for row in df.index:\n",
    "        name,required,forbidden = rules_df.loc[row,['GRASSIUS','Required','Forbidden']]\n",
    "        if matches_family( accessions, required, forbidden ):\n",
    "            result.append( [name,required,forbidden] )\n",
    "            \n",
    "    return result"
   ]
  },
  {
   "cell_type": "code",
   "execution_count": null,
   "id": "8adb5477",
   "metadata": {
    "scrolled": true
   },
   "outputs": [],
   "source": [
    "# THIS CELL IS SLOW\n",
    "# apply family rules and build a detailed spreadsheet to explain everything\n",
    "\n",
    "# you may interrupt this cell and use the partially-completed result\n",
    "\n",
    "result_df = pd.DataFrame(columns=['transcript_id','accessions','family','required','forbidden'])\n",
    "\n",
    "\n",
    "print( \"applying family rules to transcript annotations...\")\n",
    "\n",
    "\n",
    "# iterate through transcripts\n",
    "n = len(anno)\n",
    "for i,(tid,accessions) in enumerate(anno.items()):\n",
    "    \n",
    "    #report progress\n",
    "    if (i%1000) == 0:\n",
    "        print( f\"{i}/{n}\" )\n",
    "        \n",
    "    # find matching families\n",
    "    all_matching_families = get_matching_families( accessions )\n",
    "    \n",
    "    # for each matching family, add a new row to the final result\n",
    "    for family_name,required,forbidden in all_matching_families:\n",
    "        \n",
    "        new_row_index = len(result_df.index)\n",
    "        result_df.loc[new_row_index,:] = [str(v) for v in [tid,accessions,family_name,required,forbidden]]"
   ]
  },
  {
   "cell_type": "code",
   "execution_count": null,
   "id": "68e74194",
   "metadata": {
    "scrolled": true
   },
   "outputs": [],
   "source": [
    "# save results\n",
    "result_df.to_csv(output_filepath, index=False)\n",
    "\n",
    "result_df"
   ]
  },
  {
   "cell_type": "code",
   "execution_count": null,
   "id": "94a9be18",
   "metadata": {},
   "outputs": [],
   "source": [
    "# EXAMPLE\n",
    "# check results for one family\n",
    "\n",
    "family = 'MYB'\n",
    "\n",
    "family_df = result_df[result_df['family'] == family]\n",
    "\n",
    "family_df"
   ]
  },
  {
   "cell_type": "code",
   "execution_count": null,
   "id": "4b01125a",
   "metadata": {},
   "outputs": [],
   "source": [
    "# EXAMPLE\n",
    "# check results for one transcript\n",
    "\n",
    "tid = 'Zm00001eb072200_P002'\n",
    "\n",
    "\n",
    "transcript_df = result_df[result_df['transcript_id'] == tid]\n",
    "\n",
    "transcript_df\n"
   ]
  },
  {
   "cell_type": "code",
   "execution_count": null,
   "id": "8264e62d",
   "metadata": {},
   "outputs": [],
   "source": [
    "# EXAMPLE\n",
    "# check the domains present in a transcript\n",
    "\n",
    "tid = 'Zm00001eb325970_P002'\n",
    "tid = tid.replace('_T','_P')\n",
    "\n",
    "if tid in anno.keys():\n",
    "    print( anno[tid] )\n",
    "else:\n",
    "    print( 'no domains')"
   ]
  }
 ],
 "metadata": {
  "kernelspec": {
   "display_name": "Python 3",
   "language": "python",
   "name": "python3"
  },
  "language_info": {
   "codemirror_mode": {
    "name": "ipython",
    "version": 3
   },
   "file_extension": ".py",
   "mimetype": "text/x-python",
   "name": "python",
   "nbconvert_exporter": "python",
   "pygments_lexer": "ipython3",
   "version": "3.8.8"
  }
 },
 "nbformat": 4,
 "nbformat_minor": 5
}
